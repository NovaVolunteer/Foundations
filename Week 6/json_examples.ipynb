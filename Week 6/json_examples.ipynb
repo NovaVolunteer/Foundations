{
 "cells": [
  {
   "cell_type": "markdown",
   "metadata": {},
   "source": [
    "## How to load, convert, and write JSON files in Python\n",
    "First, I load the packages we'll need"
   ]
  },
  {
   "cell_type": "code",
   "execution_count": 1,
   "metadata": {},
   "outputs": [],
   "source": [
    "import numpy as np\n",
    "import pandas as pd\n",
    "import json\n",
    "import requests"
   ]
  },
  {
   "cell_type": "markdown",
   "metadata": {},
   "source": [
    "### The difference between lists and sets\n",
    "A list is denoted by square braces `[` and `]`. The order of the elements matters, and elements can be repeated, but are not given names."
   ]
  },
  {
   "cell_type": "code",
   "execution_count": 2,
   "metadata": {},
   "outputs": [
    {
     "data": {
      "text/plain": [
       "5"
      ]
     },
     "execution_count": 2,
     "metadata": {},
     "output_type": "execute_result"
    }
   ],
   "source": [
    "my_list = [5,8,-9]\n",
    "my_list[0]"
   ]
  },
  {
   "cell_type": "markdown",
   "metadata": {},
   "source": [
    "A set is denoted by curly braces `{` and `}`. The order of the elements does not matter (it sorts the elements automatically), it doesn't allow repetition, and it allows the elements to be named. A set is only subscriptable if it has names for the elements."
   ]
  },
  {
   "cell_type": "code",
   "execution_count": 3,
   "metadata": {},
   "outputs": [
    {
     "data": {
      "text/plain": [
       "{-9, 5, 8}"
      ]
     },
     "execution_count": 3,
     "metadata": {},
     "output_type": "execute_result"
    }
   ],
   "source": [
    "my_set = {5,8,-9}\n",
    "my_set"
   ]
  },
  {
   "cell_type": "code",
   "execution_count": 4,
   "metadata": {},
   "outputs": [
    {
     "data": {
      "text/plain": [
       "5"
      ]
     },
     "execution_count": 4,
     "metadata": {},
     "output_type": "execute_result"
    }
   ],
   "source": [
    "my_set = {'larry':5, 'curly':8, 'moe':-9}\n",
    "my_set['larry']"
   ]
  },
  {
   "cell_type": "markdown",
   "metadata": {},
   "source": [
    "### Memory\n",
    "JSON files tend to take up more space than CSV because of the space needed to store column names and for extra formatting characters."
   ]
  },
  {
   "cell_type": "code",
   "execution_count": 5,
   "metadata": {},
   "outputs": [],
   "source": [
    "from sys import getsizeof\n",
    "anes_csv = requests.get(\"https://raw.githubusercontent.com/NovaVolunteer/Practice_Application_DS/master/Week%205/anes_example.csv\")\n",
    "anes_json = requests.get(\"https://raw.githubusercontent.com/NovaVolunteer/Practice_Application_DS/master/Week%206/anes.json\")"
   ]
  },
  {
   "cell_type": "code",
   "execution_count": 6,
   "metadata": {},
   "outputs": [
    {
     "data": {
      "text/plain": [
       "494905"
      ]
     },
     "execution_count": 6,
     "metadata": {},
     "output_type": "execute_result"
    }
   ],
   "source": [
    "getsizeof(anes_csv.text)"
   ]
  },
  {
   "cell_type": "code",
   "execution_count": 7,
   "metadata": {},
   "outputs": [
    {
     "data": {
      "text/plain": [
       "2919777"
      ]
     },
     "execution_count": 7,
     "metadata": {},
     "output_type": "execute_result"
    }
   ],
   "source": [
    "getsizeof(anes_json.text)"
   ]
  },
  {
   "cell_type": "code",
   "execution_count": 8,
   "metadata": {},
   "outputs": [
    {
     "data": {
      "text/plain": [
       "5.899671654155848"
      ]
     },
     "execution_count": 8,
     "metadata": {},
     "output_type": "execute_result"
    }
   ],
   "source": [
    "getsizeof(anes_json.text)/getsizeof(anes_csv.text)"
   ]
  },
  {
   "cell_type": "markdown",
   "metadata": {},
   "source": [
    "### JSON is flexible\n",
    "It can store data structures that are awkward or impossible for CSV, such as:\n",
    "\n",
    "* Data in which variables are stored with different data types from record to record. In this case, the `pd.read json()` function stores the variables (`fttrump` and `fthrc` in this case) as “object” type data – meaning that it is agnostic about whether the variable contains strings or categories."
   ]
  },
  {
   "cell_type": "code",
   "execution_count": 9,
   "metadata": {},
   "outputs": [
    {
     "data": {
      "text/html": [
       "<div>\n",
       "<style scoped>\n",
       "    .dataframe tbody tr th:only-of-type {\n",
       "        vertical-align: middle;\n",
       "    }\n",
       "\n",
       "    .dataframe tbody tr th {\n",
       "        vertical-align: top;\n",
       "    }\n",
       "\n",
       "    .dataframe thead th {\n",
       "        text-align: right;\n",
       "    }\n",
       "</style>\n",
       "<table border=\"1\" class=\"dataframe\">\n",
       "  <thead>\n",
       "    <tr style=\"text-align: right;\">\n",
       "      <th></th>\n",
       "      <th>birthyr</th>\n",
       "      <th>caseid</th>\n",
       "      <th>fthrc</th>\n",
       "      <th>fttrump</th>\n",
       "      <th>gender</th>\n",
       "    </tr>\n",
       "  </thead>\n",
       "  <tbody>\n",
       "    <tr>\n",
       "      <th>0</th>\n",
       "      <td>1960</td>\n",
       "      <td>1</td>\n",
       "      <td>Pretty good</td>\n",
       "      <td>Awful</td>\n",
       "      <td>1</td>\n",
       "    </tr>\n",
       "    <tr>\n",
       "      <th>1</th>\n",
       "      <td>1957</td>\n",
       "      <td>2</td>\n",
       "      <td>52</td>\n",
       "      <td>28</td>\n",
       "      <td>2</td>\n",
       "    </tr>\n",
       "    <tr>\n",
       "      <th>2</th>\n",
       "      <td>1963</td>\n",
       "      <td>3</td>\n",
       "      <td>1</td>\n",
       "      <td>100</td>\n",
       "      <td>1</td>\n",
       "    </tr>\n",
       "  </tbody>\n",
       "</table>\n",
       "</div>"
      ],
      "text/plain": [
       "   birthyr  caseid        fthrc fttrump  gender\n",
       "0     1960       1  Pretty good   Awful       1\n",
       "1     1957       2           52      28       2\n",
       "2     1963       3            1     100       1"
      ]
     },
     "execution_count": 9,
     "metadata": {},
     "output_type": "execute_result"
    }
   ],
   "source": [
    "anes_json_example = '[{\"caseid\":1.0,\"fttrump\":\"Awful\",\"fthrc\":\"Pretty good\",\"birthyr\":1960,\"gender\":1},{\"caseid\":2.0,\"fttrump\":28.0,\"fthrc\":52.0,\"birthyr\":1957,\"gender\":2},{\"caseid\":3.0,\"fttrump\":100.0,\"fthrc\":1.0,\"birthyr\":1963,\"gender\":1}]'\n",
    "anes_json = pd.read_json(anes_json_example)\n",
    "anes_json"
   ]
  },
  {
   "cell_type": "code",
   "execution_count": 10,
   "metadata": {},
   "outputs": [
    {
     "data": {
      "text/plain": [
       "birthyr     int64\n",
       "caseid      int64\n",
       "fthrc      object\n",
       "fttrump    object\n",
       "gender      int64\n",
       "dtype: object"
      ]
     },
     "execution_count": 10,
     "metadata": {},
     "output_type": "execute_result"
    }
   ],
   "source": [
    "anes_json.dtypes"
   ]
  },
  {
   "cell_type": "markdown",
   "metadata": {},
   "source": [
    "* Data in which different records have different variables. In this case, the `pd.read json()` function creates columns for every variable that appears even once, and places `NaN` values for records that do not address these variables."
   ]
  },
  {
   "cell_type": "code",
   "execution_count": 11,
   "metadata": {},
   "outputs": [
    {
     "data": {
      "text/html": [
       "<div>\n",
       "<style scoped>\n",
       "    .dataframe tbody tr th:only-of-type {\n",
       "        vertical-align: middle;\n",
       "    }\n",
       "\n",
       "    .dataframe tbody tr th {\n",
       "        vertical-align: top;\n",
       "    }\n",
       "\n",
       "    .dataframe thead th {\n",
       "        text-align: right;\n",
       "    }\n",
       "</style>\n",
       "<table border=\"1\" class=\"dataframe\">\n",
       "  <thead>\n",
       "    <tr style=\"text-align: right;\">\n",
       "      <th></th>\n",
       "      <th>caseid</th>\n",
       "      <th>comment</th>\n",
       "      <th>fttrump</th>\n",
       "      <th>turnout</th>\n",
       "      <th>vote</th>\n",
       "    </tr>\n",
       "  </thead>\n",
       "  <tbody>\n",
       "    <tr>\n",
       "      <th>0</th>\n",
       "      <td>1</td>\n",
       "      <td>NaN</td>\n",
       "      <td>1</td>\n",
       "      <td>1</td>\n",
       "      <td>1.0</td>\n",
       "    </tr>\n",
       "    <tr>\n",
       "      <th>1</th>\n",
       "      <td>2</td>\n",
       "      <td>NaN</td>\n",
       "      <td>28</td>\n",
       "      <td>0</td>\n",
       "      <td>NaN</td>\n",
       "    </tr>\n",
       "    <tr>\n",
       "      <th>2</th>\n",
       "      <td>3</td>\n",
       "      <td>big fan of Trump</td>\n",
       "      <td>100</td>\n",
       "      <td>1</td>\n",
       "      <td>0.0</td>\n",
       "    </tr>\n",
       "  </tbody>\n",
       "</table>\n",
       "</div>"
      ],
      "text/plain": [
       "   caseid           comment  fttrump  turnout  vote\n",
       "0       1               NaN        1        1   1.0\n",
       "1       2               NaN       28        0   NaN\n",
       "2       3  big fan of Trump      100        1   0.0"
      ]
     },
     "execution_count": 11,
     "metadata": {},
     "output_type": "execute_result"
    }
   ],
   "source": [
    "anes_json_example = '[{\"caseid\":1.0,\"fttrump\":1.0,\"turnout\":1.0,\"vote\":1.0},{\"caseid\":2.0,\"fttrump\":28.0,\"turnout\":0.0},{\"caseid\":3.0,\"fttrump\":100.0,\"turnout\":1.0,\"vote\":0.0,\"comment\":\"big fan of Trump\"}]'\n",
    "anes_json = pd.read_json(anes_json_example)\n",
    "anes_json"
   ]
  },
  {
   "cell_type": "markdown",
   "metadata": {},
   "source": [
    "* Data with a tree-based nesting structure"
   ]
  },
  {
   "cell_type": "code",
   "execution_count": 12,
   "metadata": {},
   "outputs": [
    {
     "data": {
      "text/plain": [
       "{'id': 1,\n",
       " 'name': 'Leanne Graham',\n",
       " 'username': 'Bret',\n",
       " 'email': 'Sincere@april.biz',\n",
       " 'address': {'street': 'Kulas Light',\n",
       "  'suite': 'Apt. 556',\n",
       "  'city': 'Gwenborough',\n",
       "  'zipcode': '92998-3874',\n",
       "  'geo': {'lat': '-37.3159', 'lng': '81.1496'}},\n",
       " 'phone': '1-770-736-8031 x56442',\n",
       " 'website': 'hildegard.org',\n",
       " 'company': {'name': 'Romaguera-Crona',\n",
       "  'catchPhrase': 'Multi-layered client-server neural-net',\n",
       "  'bs': 'harness real-time e-markets'}}"
      ]
     },
     "execution_count": 12,
     "metadata": {},
     "output_type": "execute_result"
    }
   ],
   "source": [
    "users = pd.read_json(\"https://jsonplaceholder.typicode.com/users\", typ=\"series\")\n",
    "users[0]"
   ]
  },
  {
   "cell_type": "markdown",
   "metadata": {},
   "source": [
    "### Loading JSON data into Python\n",
    "If `typ = \"series\"`, then `pd.read json()` stores the output as a list of dictionaries – and we can call specific elements of that list."
   ]
  },
  {
   "cell_type": "code",
   "execution_count": 13,
   "metadata": {},
   "outputs": [
    {
     "data": {
      "text/plain": [
       "{'id': 1,\n",
       " 'name': 'Leanne Graham',\n",
       " 'username': 'Bret',\n",
       " 'email': 'Sincere@april.biz',\n",
       " 'address': {'street': 'Kulas Light',\n",
       "  'suite': 'Apt. 556',\n",
       "  'city': 'Gwenborough',\n",
       "  'zipcode': '92998-3874',\n",
       "  'geo': {'lat': '-37.3159', 'lng': '81.1496'}},\n",
       " 'phone': '1-770-736-8031 x56442',\n",
       " 'website': 'hildegard.org',\n",
       " 'company': {'name': 'Romaguera-Crona',\n",
       "  'catchPhrase': 'Multi-layered client-server neural-net',\n",
       "  'bs': 'harness real-time e-markets'}}"
      ]
     },
     "execution_count": 13,
     "metadata": {},
     "output_type": "execute_result"
    }
   ],
   "source": [
    "users = pd.read_json(\"https://jsonplaceholder.typicode.com/users\", typ=\"series\")\n",
    "users[0]"
   ]
  },
  {
   "cell_type": "code",
   "execution_count": 14,
   "metadata": {},
   "outputs": [
    {
     "data": {
      "text/plain": [
       "{'street': 'Kulas Light',\n",
       " 'suite': 'Apt. 556',\n",
       " 'city': 'Gwenborough',\n",
       " 'zipcode': '92998-3874',\n",
       " 'geo': {'lat': '-37.3159', 'lng': '81.1496'}}"
      ]
     },
     "execution_count": 14,
     "metadata": {},
     "output_type": "execute_result"
    }
   ],
   "source": [
    "users[0]['address']"
   ]
  },
  {
   "cell_type": "code",
   "execution_count": 15,
   "metadata": {},
   "outputs": [
    {
     "data": {
      "text/plain": [
       "{'lat': '-37.3159', 'lng': '81.1496'}"
      ]
     },
     "execution_count": 15,
     "metadata": {},
     "output_type": "execute_result"
    }
   ],
   "source": [
    "users[0]['address']['geo']"
   ]
  },
  {
   "cell_type": "code",
   "execution_count": 16,
   "metadata": {},
   "outputs": [
    {
     "data": {
      "text/plain": [
       "'-37.3159'"
      ]
     },
     "execution_count": 16,
     "metadata": {},
     "output_type": "execute_result"
    }
   ],
   "source": [
    "users[0]['address']['geo']['lat']"
   ]
  },
  {
   "cell_type": "markdown",
   "metadata": {},
   "source": [
    "If `typ=\"frame\"`, then the `pd.read_json()` function outputs a data frame:"
   ]
  },
  {
   "cell_type": "code",
   "execution_count": 17,
   "metadata": {},
   "outputs": [
    {
     "data": {
      "text/html": [
       "<div>\n",
       "<style scoped>\n",
       "    .dataframe tbody tr th:only-of-type {\n",
       "        vertical-align: middle;\n",
       "    }\n",
       "\n",
       "    .dataframe tbody tr th {\n",
       "        vertical-align: top;\n",
       "    }\n",
       "\n",
       "    .dataframe thead th {\n",
       "        text-align: right;\n",
       "    }\n",
       "</style>\n",
       "<table border=\"1\" class=\"dataframe\">\n",
       "  <thead>\n",
       "    <tr style=\"text-align: right;\">\n",
       "      <th></th>\n",
       "      <th>africanam10_1</th>\n",
       "      <th>amer_ident</th>\n",
       "      <th>arrested_12mo</th>\n",
       "      <th>arrested_ever</th>\n",
       "      <th>asianam10_1</th>\n",
       "      <th>autism</th>\n",
       "      <th>birthright_a</th>\n",
       "      <th>birthright_b</th>\n",
       "      <th>birthyr</th>\n",
       "      <th>bo_confid</th>\n",
       "      <th>...</th>\n",
       "      <th>warm</th>\n",
       "      <th>warmbad</th>\n",
       "      <th>warmcause</th>\n",
       "      <th>warmdo</th>\n",
       "      <th>wguilt1</th>\n",
       "      <th>wguilt2</th>\n",
       "      <th>wguilt3</th>\n",
       "      <th>white10_1</th>\n",
       "      <th>whitejob</th>\n",
       "      <th>whitework</th>\n",
       "    </tr>\n",
       "  </thead>\n",
       "  <tbody>\n",
       "    <tr>\n",
       "      <th>0</th>\n",
       "      <td>0.0</td>\n",
       "      <td>4</td>\n",
       "      <td>NaN</td>\n",
       "      <td>2.0</td>\n",
       "      <td>0.0</td>\n",
       "      <td>6</td>\n",
       "      <td>NaN</td>\n",
       "      <td>2.0</td>\n",
       "      <td>1960</td>\n",
       "      <td>1.0</td>\n",
       "      <td>...</td>\n",
       "      <td>1</td>\n",
       "      <td>2</td>\n",
       "      <td>1</td>\n",
       "      <td>1</td>\n",
       "      <td>5.0</td>\n",
       "      <td>5.0</td>\n",
       "      <td>5.0</td>\n",
       "      <td>10.0</td>\n",
       "      <td>5.0</td>\n",
       "      <td>5.0</td>\n",
       "    </tr>\n",
       "    <tr>\n",
       "      <th>1</th>\n",
       "      <td>0.0</td>\n",
       "      <td>3</td>\n",
       "      <td>2.0</td>\n",
       "      <td>NaN</td>\n",
       "      <td>0.0</td>\n",
       "      <td>5</td>\n",
       "      <td>2.0</td>\n",
       "      <td>NaN</td>\n",
       "      <td>1957</td>\n",
       "      <td>5.0</td>\n",
       "      <td>...</td>\n",
       "      <td>2</td>\n",
       "      <td>2</td>\n",
       "      <td>3</td>\n",
       "      <td>4</td>\n",
       "      <td>5.0</td>\n",
       "      <td>5.0</td>\n",
       "      <td>5.0</td>\n",
       "      <td>10.0</td>\n",
       "      <td>1.0</td>\n",
       "      <td>1.0</td>\n",
       "    </tr>\n",
       "    <tr>\n",
       "      <th>2</th>\n",
       "      <td>0.0</td>\n",
       "      <td>1</td>\n",
       "      <td>2.0</td>\n",
       "      <td>NaN</td>\n",
       "      <td>0.0</td>\n",
       "      <td>2</td>\n",
       "      <td>1.0</td>\n",
       "      <td>NaN</td>\n",
       "      <td>1963</td>\n",
       "      <td>1.0</td>\n",
       "      <td>...</td>\n",
       "      <td>2</td>\n",
       "      <td>3</td>\n",
       "      <td>2</td>\n",
       "      <td>7</td>\n",
       "      <td>5.0</td>\n",
       "      <td>5.0</td>\n",
       "      <td>5.0</td>\n",
       "      <td>10.0</td>\n",
       "      <td>1.0</td>\n",
       "      <td>1.0</td>\n",
       "    </tr>\n",
       "    <tr>\n",
       "      <th>3</th>\n",
       "      <td>0.0</td>\n",
       "      <td>4</td>\n",
       "      <td>2.0</td>\n",
       "      <td>NaN</td>\n",
       "      <td>0.0</td>\n",
       "      <td>6</td>\n",
       "      <td>7.0</td>\n",
       "      <td>NaN</td>\n",
       "      <td>1980</td>\n",
       "      <td>1.0</td>\n",
       "      <td>...</td>\n",
       "      <td>1</td>\n",
       "      <td>2</td>\n",
       "      <td>1</td>\n",
       "      <td>1</td>\n",
       "      <td>4.0</td>\n",
       "      <td>4.0</td>\n",
       "      <td>4.0</td>\n",
       "      <td>10.0</td>\n",
       "      <td>5.0</td>\n",
       "      <td>3.0</td>\n",
       "    </tr>\n",
       "    <tr>\n",
       "      <th>4</th>\n",
       "      <td>0.0</td>\n",
       "      <td>1</td>\n",
       "      <td>NaN</td>\n",
       "      <td>1.0</td>\n",
       "      <td>0.0</td>\n",
       "      <td>6</td>\n",
       "      <td>NaN</td>\n",
       "      <td>5.0</td>\n",
       "      <td>1974</td>\n",
       "      <td>2.0</td>\n",
       "      <td>...</td>\n",
       "      <td>2</td>\n",
       "      <td>3</td>\n",
       "      <td>2</td>\n",
       "      <td>7</td>\n",
       "      <td>5.0</td>\n",
       "      <td>5.0</td>\n",
       "      <td>5.0</td>\n",
       "      <td>0.0</td>\n",
       "      <td>5.0</td>\n",
       "      <td>5.0</td>\n",
       "    </tr>\n",
       "  </tbody>\n",
       "</table>\n",
       "<p>5 rows × 168 columns</p>\n",
       "</div>"
      ],
      "text/plain": [
       "   africanam10_1  amer_ident  arrested_12mo  arrested_ever  asianam10_1  \\\n",
       "0            0.0           4            NaN            2.0          0.0   \n",
       "1            0.0           3            2.0            NaN          0.0   \n",
       "2            0.0           1            2.0            NaN          0.0   \n",
       "3            0.0           4            2.0            NaN          0.0   \n",
       "4            0.0           1            NaN            1.0          0.0   \n",
       "\n",
       "   autism  birthright_a  birthright_b  birthyr  bo_confid  ...  warm  warmbad  \\\n",
       "0       6           NaN           2.0     1960        1.0  ...     1        2   \n",
       "1       5           2.0           NaN     1957        5.0  ...     2        2   \n",
       "2       2           1.0           NaN     1963        1.0  ...     2        3   \n",
       "3       6           7.0           NaN     1980        1.0  ...     1        2   \n",
       "4       6           NaN           5.0     1974        2.0  ...     2        3   \n",
       "\n",
       "   warmcause  warmdo  wguilt1  wguilt2  wguilt3  white10_1  whitejob  \\\n",
       "0          1       1      5.0      5.0      5.0       10.0       5.0   \n",
       "1          3       4      5.0      5.0      5.0       10.0       1.0   \n",
       "2          2       7      5.0      5.0      5.0       10.0       1.0   \n",
       "3          1       1      4.0      4.0      4.0       10.0       5.0   \n",
       "4          2       7      5.0      5.0      5.0        0.0       5.0   \n",
       "\n",
       "   whitework  \n",
       "0        5.0  \n",
       "1        1.0  \n",
       "2        1.0  \n",
       "3        3.0  \n",
       "4        5.0  \n",
       "\n",
       "[5 rows x 168 columns]"
      ]
     },
     "execution_count": 17,
     "metadata": {},
     "output_type": "execute_result"
    }
   ],
   "source": [
    "url = \"https://raw.githubusercontent.com/NovaVolunteer/Practice_Application_DS/master/Week%206/anes.json\"\n",
    "anes_json = pd.read_json(url, orient=\"records\", typ=\"frame\")\n",
    "anes_json.head()"
   ]
  },
  {
   "cell_type": "markdown",
   "metadata": {},
   "source": [
    "`orient=\"records\"` works with JSON files organized as a list-of-sets, where each set is an entire record (or a row in flat data):"
   ]
  },
  {
   "cell_type": "code",
   "execution_count": 18,
   "metadata": {},
   "outputs": [
    {
     "data": {
      "text/plain": [
       "0    {'caseid': 1.0, 'fttrump': 1.0, 'fthrc': 76.0,...\n",
       "1    {'caseid': 2.0, 'fttrump': 28.0, 'fthrc': 52.0...\n",
       "2    {'caseid': 3.0, 'fttrump': 100.0, 'fthrc': 1.0...\n",
       "3    {'caseid': 4.0, 'fttrump': 0.0, 'fthrc': 69.0,...\n",
       "4    {'caseid': 5.0, 'fttrump': 13.0, 'fthrc': 1.0,...\n",
       "dtype: object"
      ]
     },
     "execution_count": 18,
     "metadata": {},
     "output_type": "execute_result"
    }
   ],
   "source": [
    "url = \"https://raw.githubusercontent.com/NovaVolunteer/Practice_Application_DS/master/Week%206/anes_records.json\"\n",
    "anes_json = pd.read_json(url, orient=\"records\", typ=\"series\")\n",
    "anes_json"
   ]
  },
  {
   "cell_type": "markdown",
   "metadata": {},
   "source": [
    "`orient=\"columns\"` works with JSON files organized as a list-of-sets, where each set is an entire column (the names are the row-names in the flat data)"
   ]
  },
  {
   "cell_type": "code",
   "execution_count": 19,
   "metadata": {},
   "outputs": [
    {
     "data": {
      "text/plain": [
       "caseid     {'0': 1.0, '1': 2.0, '2': 3.0, '3': 4.0, '4': ...\n",
       "fttrump    {'0': 1.0, '1': 28.0, '2': 100.0, '3': 0.0, '4...\n",
       "fthrc      {'0': 76.0, '1': 52.0, '2': 1.0, '3': 69.0, '4...\n",
       "birthyr    {'0': 1960, '1': 1957, '2': 1963, '3': 1980, '...\n",
       "gender              {'0': 1, '1': 2, '2': 1, '3': 1, '4': 1}\n",
       "dtype: object"
      ]
     },
     "execution_count": 19,
     "metadata": {},
     "output_type": "execute_result"
    }
   ],
   "source": [
    "url = \"https://raw.githubusercontent.com/NovaVolunteer/Practice_Application_DS/master/Week%206/anes_columns.json\"\n",
    "anes_json = pd.read_json(url, orient=\"columns\", typ=\"series\")\n",
    "anes_json"
   ]
  },
  {
   "cell_type": "markdown",
   "metadata": {},
   "source": [
    "`orient=\"split\"` works with JSON files organized as set with three lists: columns lists the column names, index lists the row names, and data is a list-of-lists of data points, one list for each row."
   ]
  },
  {
   "cell_type": "code",
   "execution_count": 20,
   "metadata": {},
   "outputs": [
    {
     "data": {
      "text/html": [
       "<div>\n",
       "<style scoped>\n",
       "    .dataframe tbody tr th:only-of-type {\n",
       "        vertical-align: middle;\n",
       "    }\n",
       "\n",
       "    .dataframe tbody tr th {\n",
       "        vertical-align: top;\n",
       "    }\n",
       "\n",
       "    .dataframe thead th {\n",
       "        text-align: right;\n",
       "    }\n",
       "</style>\n",
       "<table border=\"1\" class=\"dataframe\">\n",
       "  <thead>\n",
       "    <tr style=\"text-align: right;\">\n",
       "      <th></th>\n",
       "      <th>caseid</th>\n",
       "      <th>fttrump</th>\n",
       "      <th>fthrc</th>\n",
       "      <th>birthyr</th>\n",
       "      <th>gender</th>\n",
       "    </tr>\n",
       "  </thead>\n",
       "  <tbody>\n",
       "    <tr>\n",
       "      <th>0</th>\n",
       "      <td>1</td>\n",
       "      <td>1</td>\n",
       "      <td>76</td>\n",
       "      <td>1960</td>\n",
       "      <td>1</td>\n",
       "    </tr>\n",
       "    <tr>\n",
       "      <th>1</th>\n",
       "      <td>2</td>\n",
       "      <td>28</td>\n",
       "      <td>52</td>\n",
       "      <td>1957</td>\n",
       "      <td>2</td>\n",
       "    </tr>\n",
       "    <tr>\n",
       "      <th>2</th>\n",
       "      <td>3</td>\n",
       "      <td>100</td>\n",
       "      <td>1</td>\n",
       "      <td>1963</td>\n",
       "      <td>1</td>\n",
       "    </tr>\n",
       "    <tr>\n",
       "      <th>3</th>\n",
       "      <td>4</td>\n",
       "      <td>0</td>\n",
       "      <td>69</td>\n",
       "      <td>1980</td>\n",
       "      <td>1</td>\n",
       "    </tr>\n",
       "    <tr>\n",
       "      <th>4</th>\n",
       "      <td>5</td>\n",
       "      <td>13</td>\n",
       "      <td>1</td>\n",
       "      <td>1974</td>\n",
       "      <td>1</td>\n",
       "    </tr>\n",
       "  </tbody>\n",
       "</table>\n",
       "</div>"
      ],
      "text/plain": [
       "   caseid  fttrump  fthrc  birthyr  gender\n",
       "0       1        1     76     1960       1\n",
       "1       2       28     52     1957       2\n",
       "2       3      100      1     1963       1\n",
       "3       4        0     69     1980       1\n",
       "4       5       13      1     1974       1"
      ]
     },
     "execution_count": 20,
     "metadata": {},
     "output_type": "execute_result"
    }
   ],
   "source": [
    "url = \"https://raw.githubusercontent.com/NovaVolunteer/Practice_Application_DS/master/Week%206/anes_split.json\"\n",
    "anes_json = pd.read_json(url, orient=\"split\") #note: can't load split JSON as typ=\"series\", only typ=\"frame\" (the default)\n",
    "anes_json"
   ]
  },
  {
   "cell_type": "markdown",
   "metadata": {},
   "source": [
    "`orient=\"index\"` is like `orient=\"records\"` but includes the name of each row in the data:"
   ]
  },
  {
   "cell_type": "code",
   "execution_count": 21,
   "metadata": {},
   "outputs": [
    {
     "data": {
      "text/plain": [
       "0    {'caseid': 1.0, 'fttrump': 1.0, 'fthrc': 76.0,...\n",
       "1    {'caseid': 2.0, 'fttrump': 28.0, 'fthrc': 52.0...\n",
       "2    {'caseid': 3.0, 'fttrump': 100.0, 'fthrc': 1.0...\n",
       "3    {'caseid': 4.0, 'fttrump': 0.0, 'fthrc': 69.0,...\n",
       "4    {'caseid': 5.0, 'fttrump': 13.0, 'fthrc': 1.0,...\n",
       "dtype: object"
      ]
     },
     "execution_count": 21,
     "metadata": {},
     "output_type": "execute_result"
    }
   ],
   "source": [
    "url = \"https://raw.githubusercontent.com/NovaVolunteer/Practice_Application_DS/master/Week%206/anes_index.json\"\n",
    "anes_json = pd.read_json(url, orient=\"index\", typ=\"series\")\n",
    "anes_json"
   ]
  },
  {
   "cell_type": "markdown",
   "metadata": {},
   "source": [
    "`orient=\"values\"` only contains the datapoints:"
   ]
  },
  {
   "cell_type": "code",
   "execution_count": 22,
   "metadata": {},
   "outputs": [
    {
     "data": {
      "text/plain": [
       "0     [1.0, 1.0, 76.0, 1960, 1]\n",
       "1    [2.0, 28.0, 52.0, 1957, 2]\n",
       "2    [3.0, 100.0, 1.0, 1963, 1]\n",
       "3     [4.0, 0.0, 69.0, 1980, 1]\n",
       "4     [5.0, 13.0, 1.0, 1974, 1]\n",
       "dtype: object"
      ]
     },
     "execution_count": 22,
     "metadata": {},
     "output_type": "execute_result"
    }
   ],
   "source": [
    "url = \"https://raw.githubusercontent.com/NovaVolunteer/Practice_Application_DS/master/Week%206/anes_values.json\"\n",
    "anes_json = pd.read_json(url, orient=\"values\", typ=\"series\")\n",
    "anes_json"
   ]
  },
  {
   "cell_type": "markdown",
   "metadata": {},
   "source": [
    "### Converting JSON with a nested structure to a data frame\n",
    "Use `json_normalize()` from the `pandas.io.json` module to create a data frame. First, import the `json_normalize()` function:"
   ]
  },
  {
   "cell_type": "code",
   "execution_count": 23,
   "metadata": {},
   "outputs": [],
   "source": [
    "from pandas.io.json import json_normalize"
   ]
  },
  {
   "cell_type": "markdown",
   "metadata": {},
   "source": [
    "If you load the data directly as a data frame using `pd.read_json()`, and there is nesting in the data, the data frame will keep these structures as strings in the output data:"
   ]
  },
  {
   "cell_type": "code",
   "execution_count": 24,
   "metadata": {},
   "outputs": [
    {
     "data": {
      "text/html": [
       "<div>\n",
       "<style scoped>\n",
       "    .dataframe tbody tr th:only-of-type {\n",
       "        vertical-align: middle;\n",
       "    }\n",
       "\n",
       "    .dataframe tbody tr th {\n",
       "        vertical-align: top;\n",
       "    }\n",
       "\n",
       "    .dataframe thead th {\n",
       "        text-align: right;\n",
       "    }\n",
       "</style>\n",
       "<table border=\"1\" class=\"dataframe\">\n",
       "  <thead>\n",
       "    <tr style=\"text-align: right;\">\n",
       "      <th></th>\n",
       "      <th>address</th>\n",
       "      <th>company</th>\n",
       "      <th>email</th>\n",
       "      <th>id</th>\n",
       "      <th>name</th>\n",
       "      <th>phone</th>\n",
       "      <th>username</th>\n",
       "      <th>website</th>\n",
       "    </tr>\n",
       "  </thead>\n",
       "  <tbody>\n",
       "    <tr>\n",
       "      <th>0</th>\n",
       "      <td>{'street': 'Kulas Light', 'suite': 'Apt. 556',...</td>\n",
       "      <td>{'name': 'Romaguera-Crona', 'catchPhrase': 'Mu...</td>\n",
       "      <td>Sincere@april.biz</td>\n",
       "      <td>1</td>\n",
       "      <td>Leanne Graham</td>\n",
       "      <td>1-770-736-8031 x56442</td>\n",
       "      <td>Bret</td>\n",
       "      <td>hildegard.org</td>\n",
       "    </tr>\n",
       "    <tr>\n",
       "      <th>1</th>\n",
       "      <td>{'street': 'Victor Plains', 'suite': 'Suite 87...</td>\n",
       "      <td>{'name': 'Deckow-Crist', 'catchPhrase': 'Proac...</td>\n",
       "      <td>Shanna@melissa.tv</td>\n",
       "      <td>2</td>\n",
       "      <td>Ervin Howell</td>\n",
       "      <td>010-692-6593 x09125</td>\n",
       "      <td>Antonette</td>\n",
       "      <td>anastasia.net</td>\n",
       "    </tr>\n",
       "    <tr>\n",
       "      <th>2</th>\n",
       "      <td>{'street': 'Douglas Extension', 'suite': 'Suit...</td>\n",
       "      <td>{'name': 'Romaguera-Jacobson', 'catchPhrase': ...</td>\n",
       "      <td>Nathan@yesenia.net</td>\n",
       "      <td>3</td>\n",
       "      <td>Clementine Bauch</td>\n",
       "      <td>1-463-123-4447</td>\n",
       "      <td>Samantha</td>\n",
       "      <td>ramiro.info</td>\n",
       "    </tr>\n",
       "    <tr>\n",
       "      <th>3</th>\n",
       "      <td>{'street': 'Hoeger Mall', 'suite': 'Apt. 692',...</td>\n",
       "      <td>{'name': 'Robel-Corkery', 'catchPhrase': 'Mult...</td>\n",
       "      <td>Julianne.OConner@kory.org</td>\n",
       "      <td>4</td>\n",
       "      <td>Patricia Lebsack</td>\n",
       "      <td>493-170-9623 x156</td>\n",
       "      <td>Karianne</td>\n",
       "      <td>kale.biz</td>\n",
       "    </tr>\n",
       "    <tr>\n",
       "      <th>4</th>\n",
       "      <td>{'street': 'Skiles Walks', 'suite': 'Suite 351...</td>\n",
       "      <td>{'name': 'Keebler LLC', 'catchPhrase': 'User-c...</td>\n",
       "      <td>Lucio_Hettinger@annie.ca</td>\n",
       "      <td>5</td>\n",
       "      <td>Chelsey Dietrich</td>\n",
       "      <td>(254)954-1289</td>\n",
       "      <td>Kamren</td>\n",
       "      <td>demarco.info</td>\n",
       "    </tr>\n",
       "    <tr>\n",
       "      <th>5</th>\n",
       "      <td>{'street': 'Norberto Crossing', 'suite': 'Apt....</td>\n",
       "      <td>{'name': 'Considine-Lockman', 'catchPhrase': '...</td>\n",
       "      <td>Karley_Dach@jasper.info</td>\n",
       "      <td>6</td>\n",
       "      <td>Mrs. Dennis Schulist</td>\n",
       "      <td>1-477-935-8478 x6430</td>\n",
       "      <td>Leopoldo_Corkery</td>\n",
       "      <td>ola.org</td>\n",
       "    </tr>\n",
       "    <tr>\n",
       "      <th>6</th>\n",
       "      <td>{'street': 'Rex Trail', 'suite': 'Suite 280', ...</td>\n",
       "      <td>{'name': 'Johns Group', 'catchPhrase': 'Config...</td>\n",
       "      <td>Telly.Hoeger@billy.biz</td>\n",
       "      <td>7</td>\n",
       "      <td>Kurtis Weissnat</td>\n",
       "      <td>210.067.6132</td>\n",
       "      <td>Elwyn.Skiles</td>\n",
       "      <td>elvis.io</td>\n",
       "    </tr>\n",
       "    <tr>\n",
       "      <th>7</th>\n",
       "      <td>{'street': 'Ellsworth Summit', 'suite': 'Suite...</td>\n",
       "      <td>{'name': 'Abernathy Group', 'catchPhrase': 'Im...</td>\n",
       "      <td>Sherwood@rosamond.me</td>\n",
       "      <td>8</td>\n",
       "      <td>Nicholas Runolfsdottir V</td>\n",
       "      <td>586.493.6943 x140</td>\n",
       "      <td>Maxime_Nienow</td>\n",
       "      <td>jacynthe.com</td>\n",
       "    </tr>\n",
       "    <tr>\n",
       "      <th>8</th>\n",
       "      <td>{'street': 'Dayna Park', 'suite': 'Suite 449',...</td>\n",
       "      <td>{'name': 'Yost and Sons', 'catchPhrase': 'Swit...</td>\n",
       "      <td>Chaim_McDermott@dana.io</td>\n",
       "      <td>9</td>\n",
       "      <td>Glenna Reichert</td>\n",
       "      <td>(775)976-6794 x41206</td>\n",
       "      <td>Delphine</td>\n",
       "      <td>conrad.com</td>\n",
       "    </tr>\n",
       "    <tr>\n",
       "      <th>9</th>\n",
       "      <td>{'street': 'Kattie Turnpike', 'suite': 'Suite ...</td>\n",
       "      <td>{'name': 'Hoeger LLC', 'catchPhrase': 'Central...</td>\n",
       "      <td>Rey.Padberg@karina.biz</td>\n",
       "      <td>10</td>\n",
       "      <td>Clementina DuBuque</td>\n",
       "      <td>024-648-3804</td>\n",
       "      <td>Moriah.Stanton</td>\n",
       "      <td>ambrose.net</td>\n",
       "    </tr>\n",
       "  </tbody>\n",
       "</table>\n",
       "</div>"
      ],
      "text/plain": [
       "                                             address  \\\n",
       "0  {'street': 'Kulas Light', 'suite': 'Apt. 556',...   \n",
       "1  {'street': 'Victor Plains', 'suite': 'Suite 87...   \n",
       "2  {'street': 'Douglas Extension', 'suite': 'Suit...   \n",
       "3  {'street': 'Hoeger Mall', 'suite': 'Apt. 692',...   \n",
       "4  {'street': 'Skiles Walks', 'suite': 'Suite 351...   \n",
       "5  {'street': 'Norberto Crossing', 'suite': 'Apt....   \n",
       "6  {'street': 'Rex Trail', 'suite': 'Suite 280', ...   \n",
       "7  {'street': 'Ellsworth Summit', 'suite': 'Suite...   \n",
       "8  {'street': 'Dayna Park', 'suite': 'Suite 449',...   \n",
       "9  {'street': 'Kattie Turnpike', 'suite': 'Suite ...   \n",
       "\n",
       "                                             company  \\\n",
       "0  {'name': 'Romaguera-Crona', 'catchPhrase': 'Mu...   \n",
       "1  {'name': 'Deckow-Crist', 'catchPhrase': 'Proac...   \n",
       "2  {'name': 'Romaguera-Jacobson', 'catchPhrase': ...   \n",
       "3  {'name': 'Robel-Corkery', 'catchPhrase': 'Mult...   \n",
       "4  {'name': 'Keebler LLC', 'catchPhrase': 'User-c...   \n",
       "5  {'name': 'Considine-Lockman', 'catchPhrase': '...   \n",
       "6  {'name': 'Johns Group', 'catchPhrase': 'Config...   \n",
       "7  {'name': 'Abernathy Group', 'catchPhrase': 'Im...   \n",
       "8  {'name': 'Yost and Sons', 'catchPhrase': 'Swit...   \n",
       "9  {'name': 'Hoeger LLC', 'catchPhrase': 'Central...   \n",
       "\n",
       "                       email  id                      name  \\\n",
       "0          Sincere@april.biz   1             Leanne Graham   \n",
       "1          Shanna@melissa.tv   2              Ervin Howell   \n",
       "2         Nathan@yesenia.net   3          Clementine Bauch   \n",
       "3  Julianne.OConner@kory.org   4          Patricia Lebsack   \n",
       "4   Lucio_Hettinger@annie.ca   5          Chelsey Dietrich   \n",
       "5    Karley_Dach@jasper.info   6      Mrs. Dennis Schulist   \n",
       "6     Telly.Hoeger@billy.biz   7           Kurtis Weissnat   \n",
       "7       Sherwood@rosamond.me   8  Nicholas Runolfsdottir V   \n",
       "8    Chaim_McDermott@dana.io   9           Glenna Reichert   \n",
       "9     Rey.Padberg@karina.biz  10        Clementina DuBuque   \n",
       "\n",
       "                   phone          username        website  \n",
       "0  1-770-736-8031 x56442              Bret  hildegard.org  \n",
       "1    010-692-6593 x09125         Antonette  anastasia.net  \n",
       "2         1-463-123-4447          Samantha    ramiro.info  \n",
       "3      493-170-9623 x156          Karianne       kale.biz  \n",
       "4          (254)954-1289            Kamren   demarco.info  \n",
       "5   1-477-935-8478 x6430  Leopoldo_Corkery        ola.org  \n",
       "6           210.067.6132      Elwyn.Skiles       elvis.io  \n",
       "7      586.493.6943 x140     Maxime_Nienow   jacynthe.com  \n",
       "8   (775)976-6794 x41206          Delphine     conrad.com  \n",
       "9           024-648-3804    Moriah.Stanton    ambrose.net  "
      ]
     },
     "execution_count": 24,
     "metadata": {},
     "output_type": "execute_result"
    }
   ],
   "source": [
    "url = \"https://jsonplaceholder.typicode.com/users\"\n",
    "users = pd.read_json(url, typ=\"frame\")\n",
    "users"
   ]
  },
  {
   "cell_type": "markdown",
   "metadata": {},
   "source": [
    "So instead, load the data into Python using `pd.read_json()` as a series, not a dataframe:"
   ]
  },
  {
   "cell_type": "code",
   "execution_count": 25,
   "metadata": {},
   "outputs": [
    {
     "data": {
      "text/plain": [
       "{'id': 1,\n",
       " 'name': 'Leanne Graham',\n",
       " 'username': 'Bret',\n",
       " 'email': 'Sincere@april.biz',\n",
       " 'address': {'street': 'Kulas Light',\n",
       "  'suite': 'Apt. 556',\n",
       "  'city': 'Gwenborough',\n",
       "  'zipcode': '92998-3874',\n",
       "  'geo': {'lat': '-37.3159', 'lng': '81.1496'}},\n",
       " 'phone': '1-770-736-8031 x56442',\n",
       " 'website': 'hildegard.org',\n",
       " 'company': {'name': 'Romaguera-Crona',\n",
       "  'catchPhrase': 'Multi-layered client-server neural-net',\n",
       "  'bs': 'harness real-time e-markets'}}"
      ]
     },
     "execution_count": 25,
     "metadata": {},
     "output_type": "execute_result"
    }
   ],
   "source": [
    "users = pd.read_json(url, typ=\"series\")\n",
    "users[0]"
   ]
  },
  {
   "cell_type": "markdown",
   "metadata": {},
   "source": [
    "Then use `json_normalize()`: The column names are fairly ugly, but every variable is now stored in a separate column."
   ]
  },
  {
   "cell_type": "code",
   "execution_count": 26,
   "metadata": {},
   "outputs": [
    {
     "data": {
      "text/html": [
       "<div>\n",
       "<style scoped>\n",
       "    .dataframe tbody tr th:only-of-type {\n",
       "        vertical-align: middle;\n",
       "    }\n",
       "\n",
       "    .dataframe tbody tr th {\n",
       "        vertical-align: top;\n",
       "    }\n",
       "\n",
       "    .dataframe thead th {\n",
       "        text-align: right;\n",
       "    }\n",
       "</style>\n",
       "<table border=\"1\" class=\"dataframe\">\n",
       "  <thead>\n",
       "    <tr style=\"text-align: right;\">\n",
       "      <th></th>\n",
       "      <th>address.city</th>\n",
       "      <th>address.geo.lat</th>\n",
       "      <th>address.geo.lng</th>\n",
       "      <th>address.street</th>\n",
       "      <th>address.suite</th>\n",
       "      <th>address.zipcode</th>\n",
       "      <th>company.bs</th>\n",
       "      <th>company.catchPhrase</th>\n",
       "      <th>company.name</th>\n",
       "      <th>email</th>\n",
       "      <th>id</th>\n",
       "      <th>name</th>\n",
       "      <th>phone</th>\n",
       "      <th>username</th>\n",
       "      <th>website</th>\n",
       "    </tr>\n",
       "  </thead>\n",
       "  <tbody>\n",
       "    <tr>\n",
       "      <th>0</th>\n",
       "      <td>Gwenborough</td>\n",
       "      <td>-37.3159</td>\n",
       "      <td>81.1496</td>\n",
       "      <td>Kulas Light</td>\n",
       "      <td>Apt. 556</td>\n",
       "      <td>92998-3874</td>\n",
       "      <td>harness real-time e-markets</td>\n",
       "      <td>Multi-layered client-server neural-net</td>\n",
       "      <td>Romaguera-Crona</td>\n",
       "      <td>Sincere@april.biz</td>\n",
       "      <td>1</td>\n",
       "      <td>Leanne Graham</td>\n",
       "      <td>1-770-736-8031 x56442</td>\n",
       "      <td>Bret</td>\n",
       "      <td>hildegard.org</td>\n",
       "    </tr>\n",
       "    <tr>\n",
       "      <th>1</th>\n",
       "      <td>Wisokyburgh</td>\n",
       "      <td>-43.9509</td>\n",
       "      <td>-34.4618</td>\n",
       "      <td>Victor Plains</td>\n",
       "      <td>Suite 879</td>\n",
       "      <td>90566-7771</td>\n",
       "      <td>synergize scalable supply-chains</td>\n",
       "      <td>Proactive didactic contingency</td>\n",
       "      <td>Deckow-Crist</td>\n",
       "      <td>Shanna@melissa.tv</td>\n",
       "      <td>2</td>\n",
       "      <td>Ervin Howell</td>\n",
       "      <td>010-692-6593 x09125</td>\n",
       "      <td>Antonette</td>\n",
       "      <td>anastasia.net</td>\n",
       "    </tr>\n",
       "    <tr>\n",
       "      <th>2</th>\n",
       "      <td>McKenziehaven</td>\n",
       "      <td>-68.6102</td>\n",
       "      <td>-47.0653</td>\n",
       "      <td>Douglas Extension</td>\n",
       "      <td>Suite 847</td>\n",
       "      <td>59590-4157</td>\n",
       "      <td>e-enable strategic applications</td>\n",
       "      <td>Face to face bifurcated interface</td>\n",
       "      <td>Romaguera-Jacobson</td>\n",
       "      <td>Nathan@yesenia.net</td>\n",
       "      <td>3</td>\n",
       "      <td>Clementine Bauch</td>\n",
       "      <td>1-463-123-4447</td>\n",
       "      <td>Samantha</td>\n",
       "      <td>ramiro.info</td>\n",
       "    </tr>\n",
       "    <tr>\n",
       "      <th>3</th>\n",
       "      <td>South Elvis</td>\n",
       "      <td>29.4572</td>\n",
       "      <td>-164.2990</td>\n",
       "      <td>Hoeger Mall</td>\n",
       "      <td>Apt. 692</td>\n",
       "      <td>53919-4257</td>\n",
       "      <td>transition cutting-edge web services</td>\n",
       "      <td>Multi-tiered zero tolerance productivity</td>\n",
       "      <td>Robel-Corkery</td>\n",
       "      <td>Julianne.OConner@kory.org</td>\n",
       "      <td>4</td>\n",
       "      <td>Patricia Lebsack</td>\n",
       "      <td>493-170-9623 x156</td>\n",
       "      <td>Karianne</td>\n",
       "      <td>kale.biz</td>\n",
       "    </tr>\n",
       "    <tr>\n",
       "      <th>4</th>\n",
       "      <td>Roscoeview</td>\n",
       "      <td>-31.8129</td>\n",
       "      <td>62.5342</td>\n",
       "      <td>Skiles Walks</td>\n",
       "      <td>Suite 351</td>\n",
       "      <td>33263</td>\n",
       "      <td>revolutionize end-to-end systems</td>\n",
       "      <td>User-centric fault-tolerant solution</td>\n",
       "      <td>Keebler LLC</td>\n",
       "      <td>Lucio_Hettinger@annie.ca</td>\n",
       "      <td>5</td>\n",
       "      <td>Chelsey Dietrich</td>\n",
       "      <td>(254)954-1289</td>\n",
       "      <td>Kamren</td>\n",
       "      <td>demarco.info</td>\n",
       "    </tr>\n",
       "    <tr>\n",
       "      <th>5</th>\n",
       "      <td>South Christy</td>\n",
       "      <td>-71.4197</td>\n",
       "      <td>71.7478</td>\n",
       "      <td>Norberto Crossing</td>\n",
       "      <td>Apt. 950</td>\n",
       "      <td>23505-1337</td>\n",
       "      <td>e-enable innovative applications</td>\n",
       "      <td>Synchronised bottom-line interface</td>\n",
       "      <td>Considine-Lockman</td>\n",
       "      <td>Karley_Dach@jasper.info</td>\n",
       "      <td>6</td>\n",
       "      <td>Mrs. Dennis Schulist</td>\n",
       "      <td>1-477-935-8478 x6430</td>\n",
       "      <td>Leopoldo_Corkery</td>\n",
       "      <td>ola.org</td>\n",
       "    </tr>\n",
       "    <tr>\n",
       "      <th>6</th>\n",
       "      <td>Howemouth</td>\n",
       "      <td>24.8918</td>\n",
       "      <td>21.8984</td>\n",
       "      <td>Rex Trail</td>\n",
       "      <td>Suite 280</td>\n",
       "      <td>58804-1099</td>\n",
       "      <td>generate enterprise e-tailers</td>\n",
       "      <td>Configurable multimedia task-force</td>\n",
       "      <td>Johns Group</td>\n",
       "      <td>Telly.Hoeger@billy.biz</td>\n",
       "      <td>7</td>\n",
       "      <td>Kurtis Weissnat</td>\n",
       "      <td>210.067.6132</td>\n",
       "      <td>Elwyn.Skiles</td>\n",
       "      <td>elvis.io</td>\n",
       "    </tr>\n",
       "    <tr>\n",
       "      <th>7</th>\n",
       "      <td>Aliyaview</td>\n",
       "      <td>-14.3990</td>\n",
       "      <td>-120.7677</td>\n",
       "      <td>Ellsworth Summit</td>\n",
       "      <td>Suite 729</td>\n",
       "      <td>45169</td>\n",
       "      <td>e-enable extensible e-tailers</td>\n",
       "      <td>Implemented secondary concept</td>\n",
       "      <td>Abernathy Group</td>\n",
       "      <td>Sherwood@rosamond.me</td>\n",
       "      <td>8</td>\n",
       "      <td>Nicholas Runolfsdottir V</td>\n",
       "      <td>586.493.6943 x140</td>\n",
       "      <td>Maxime_Nienow</td>\n",
       "      <td>jacynthe.com</td>\n",
       "    </tr>\n",
       "    <tr>\n",
       "      <th>8</th>\n",
       "      <td>Bartholomebury</td>\n",
       "      <td>24.6463</td>\n",
       "      <td>-168.8889</td>\n",
       "      <td>Dayna Park</td>\n",
       "      <td>Suite 449</td>\n",
       "      <td>76495-3109</td>\n",
       "      <td>aggregate real-time technologies</td>\n",
       "      <td>Switchable contextually-based project</td>\n",
       "      <td>Yost and Sons</td>\n",
       "      <td>Chaim_McDermott@dana.io</td>\n",
       "      <td>9</td>\n",
       "      <td>Glenna Reichert</td>\n",
       "      <td>(775)976-6794 x41206</td>\n",
       "      <td>Delphine</td>\n",
       "      <td>conrad.com</td>\n",
       "    </tr>\n",
       "    <tr>\n",
       "      <th>9</th>\n",
       "      <td>Lebsackbury</td>\n",
       "      <td>-38.2386</td>\n",
       "      <td>57.2232</td>\n",
       "      <td>Kattie Turnpike</td>\n",
       "      <td>Suite 198</td>\n",
       "      <td>31428-2261</td>\n",
       "      <td>target end-to-end models</td>\n",
       "      <td>Centralized empowering task-force</td>\n",
       "      <td>Hoeger LLC</td>\n",
       "      <td>Rey.Padberg@karina.biz</td>\n",
       "      <td>10</td>\n",
       "      <td>Clementina DuBuque</td>\n",
       "      <td>024-648-3804</td>\n",
       "      <td>Moriah.Stanton</td>\n",
       "      <td>ambrose.net</td>\n",
       "    </tr>\n",
       "  </tbody>\n",
       "</table>\n",
       "</div>"
      ],
      "text/plain": [
       "     address.city address.geo.lat address.geo.lng     address.street  \\\n",
       "0     Gwenborough        -37.3159         81.1496        Kulas Light   \n",
       "1     Wisokyburgh        -43.9509        -34.4618      Victor Plains   \n",
       "2   McKenziehaven        -68.6102        -47.0653  Douglas Extension   \n",
       "3     South Elvis         29.4572       -164.2990        Hoeger Mall   \n",
       "4      Roscoeview        -31.8129         62.5342       Skiles Walks   \n",
       "5   South Christy        -71.4197         71.7478  Norberto Crossing   \n",
       "6       Howemouth         24.8918         21.8984          Rex Trail   \n",
       "7       Aliyaview        -14.3990       -120.7677   Ellsworth Summit   \n",
       "8  Bartholomebury         24.6463       -168.8889         Dayna Park   \n",
       "9     Lebsackbury        -38.2386         57.2232    Kattie Turnpike   \n",
       "\n",
       "  address.suite address.zipcode                            company.bs  \\\n",
       "0      Apt. 556      92998-3874           harness real-time e-markets   \n",
       "1     Suite 879      90566-7771      synergize scalable supply-chains   \n",
       "2     Suite 847      59590-4157       e-enable strategic applications   \n",
       "3      Apt. 692      53919-4257  transition cutting-edge web services   \n",
       "4     Suite 351           33263      revolutionize end-to-end systems   \n",
       "5      Apt. 950      23505-1337      e-enable innovative applications   \n",
       "6     Suite 280      58804-1099         generate enterprise e-tailers   \n",
       "7     Suite 729           45169         e-enable extensible e-tailers   \n",
       "8     Suite 449      76495-3109      aggregate real-time technologies   \n",
       "9     Suite 198      31428-2261              target end-to-end models   \n",
       "\n",
       "                        company.catchPhrase        company.name  \\\n",
       "0    Multi-layered client-server neural-net     Romaguera-Crona   \n",
       "1            Proactive didactic contingency        Deckow-Crist   \n",
       "2         Face to face bifurcated interface  Romaguera-Jacobson   \n",
       "3  Multi-tiered zero tolerance productivity       Robel-Corkery   \n",
       "4      User-centric fault-tolerant solution         Keebler LLC   \n",
       "5        Synchronised bottom-line interface   Considine-Lockman   \n",
       "6        Configurable multimedia task-force         Johns Group   \n",
       "7             Implemented secondary concept     Abernathy Group   \n",
       "8     Switchable contextually-based project       Yost and Sons   \n",
       "9         Centralized empowering task-force          Hoeger LLC   \n",
       "\n",
       "                       email  id                      name  \\\n",
       "0          Sincere@april.biz   1             Leanne Graham   \n",
       "1          Shanna@melissa.tv   2              Ervin Howell   \n",
       "2         Nathan@yesenia.net   3          Clementine Bauch   \n",
       "3  Julianne.OConner@kory.org   4          Patricia Lebsack   \n",
       "4   Lucio_Hettinger@annie.ca   5          Chelsey Dietrich   \n",
       "5    Karley_Dach@jasper.info   6      Mrs. Dennis Schulist   \n",
       "6     Telly.Hoeger@billy.biz   7           Kurtis Weissnat   \n",
       "7       Sherwood@rosamond.me   8  Nicholas Runolfsdottir V   \n",
       "8    Chaim_McDermott@dana.io   9           Glenna Reichert   \n",
       "9     Rey.Padberg@karina.biz  10        Clementina DuBuque   \n",
       "\n",
       "                   phone          username        website  \n",
       "0  1-770-736-8031 x56442              Bret  hildegard.org  \n",
       "1    010-692-6593 x09125         Antonette  anastasia.net  \n",
       "2         1-463-123-4447          Samantha    ramiro.info  \n",
       "3      493-170-9623 x156          Karianne       kale.biz  \n",
       "4          (254)954-1289            Kamren   demarco.info  \n",
       "5   1-477-935-8478 x6430  Leopoldo_Corkery        ola.org  \n",
       "6           210.067.6132      Elwyn.Skiles       elvis.io  \n",
       "7      586.493.6943 x140     Maxime_Nienow   jacynthe.com  \n",
       "8   (775)976-6794 x41206          Delphine     conrad.com  \n",
       "9           024-648-3804    Moriah.Stanton    ambrose.net  "
      ]
     },
     "execution_count": 26,
     "metadata": {},
     "output_type": "execute_result"
    }
   ],
   "source": [
    "users_df = json_normalize(users)\n",
    "users_df"
   ]
  },
  {
   "cell_type": "markdown",
   "metadata": {},
   "source": [
    "### Converting DataFrames/CSVs to JSON\n",
    "To convert a dataframe to a JSON variable in memory, use `df2 = df.to json(orient)`, where `orient` is defined as it is above. Replace `df` with the name of the dataframe object you are converting, and replace `df2` with object you are creating."
   ]
  },
  {
   "cell_type": "code",
   "execution_count": 27,
   "metadata": {},
   "outputs": [
    {
     "data": {
      "text/html": [
       "<div>\n",
       "<style scoped>\n",
       "    .dataframe tbody tr th:only-of-type {\n",
       "        vertical-align: middle;\n",
       "    }\n",
       "\n",
       "    .dataframe tbody tr th {\n",
       "        vertical-align: top;\n",
       "    }\n",
       "\n",
       "    .dataframe thead th {\n",
       "        text-align: right;\n",
       "    }\n",
       "</style>\n",
       "<table border=\"1\" class=\"dataframe\">\n",
       "  <thead>\n",
       "    <tr style=\"text-align: right;\">\n",
       "      <th></th>\n",
       "      <th>caseid</th>\n",
       "      <th>turnout12</th>\n",
       "      <th>turnout12b</th>\n",
       "      <th>vote12</th>\n",
       "      <th>percent16</th>\n",
       "      <th>meet</th>\n",
       "      <th>givefut</th>\n",
       "      <th>info</th>\n",
       "      <th>march</th>\n",
       "      <th>sign</th>\n",
       "      <th>...</th>\n",
       "      <th>votereg</th>\n",
       "      <th>pid3</th>\n",
       "      <th>pid7</th>\n",
       "      <th>ideo5</th>\n",
       "      <th>newsint</th>\n",
       "      <th>pew_bornagain</th>\n",
       "      <th>pew_churatd</th>\n",
       "      <th>religpew</th>\n",
       "      <th>religpew_t</th>\n",
       "      <th>ever_vs_12mo_rand</th>\n",
       "    </tr>\n",
       "  </thead>\n",
       "  <tbody>\n",
       "    <tr>\n",
       "      <th>0</th>\n",
       "      <td>1.0</td>\n",
       "      <td>1</td>\n",
       "      <td>NaN</td>\n",
       "      <td>2.0</td>\n",
       "      <td>100</td>\n",
       "      <td>1</td>\n",
       "      <td>3</td>\n",
       "      <td>4</td>\n",
       "      <td>1</td>\n",
       "      <td>2</td>\n",
       "      <td>...</td>\n",
       "      <td>1</td>\n",
       "      <td>1</td>\n",
       "      <td>1.0</td>\n",
       "      <td>6</td>\n",
       "      <td>1</td>\n",
       "      <td>2</td>\n",
       "      <td>6</td>\n",
       "      <td>NaN</td>\n",
       "      <td>__NA__</td>\n",
       "      <td>2</td>\n",
       "    </tr>\n",
       "    <tr>\n",
       "      <th>1</th>\n",
       "      <td>2.0</td>\n",
       "      <td>2</td>\n",
       "      <td>NaN</td>\n",
       "      <td>NaN</td>\n",
       "      <td>50</td>\n",
       "      <td>4</td>\n",
       "      <td>5</td>\n",
       "      <td>4</td>\n",
       "      <td>2</td>\n",
       "      <td>2</td>\n",
       "      <td>...</td>\n",
       "      <td>2</td>\n",
       "      <td>3</td>\n",
       "      <td>4.0</td>\n",
       "      <td>2</td>\n",
       "      <td>3</td>\n",
       "      <td>2</td>\n",
       "      <td>4</td>\n",
       "      <td>2.0</td>\n",
       "      <td>__NA__</td>\n",
       "      <td>1</td>\n",
       "    </tr>\n",
       "    <tr>\n",
       "      <th>2</th>\n",
       "      <td>3.0</td>\n",
       "      <td>1</td>\n",
       "      <td>NaN</td>\n",
       "      <td>1.0</td>\n",
       "      <td>100</td>\n",
       "      <td>1</td>\n",
       "      <td>1</td>\n",
       "      <td>1</td>\n",
       "      <td>1</td>\n",
       "      <td>1</td>\n",
       "      <td>...</td>\n",
       "      <td>1</td>\n",
       "      <td>2</td>\n",
       "      <td>6.0</td>\n",
       "      <td>4</td>\n",
       "      <td>1</td>\n",
       "      <td>2</td>\n",
       "      <td>6</td>\n",
       "      <td>1.0</td>\n",
       "      <td>__NA__</td>\n",
       "      <td>1</td>\n",
       "    </tr>\n",
       "    <tr>\n",
       "      <th>3</th>\n",
       "      <td>4.0</td>\n",
       "      <td>1</td>\n",
       "      <td>NaN</td>\n",
       "      <td>2.0</td>\n",
       "      <td>100</td>\n",
       "      <td>5</td>\n",
       "      <td>4</td>\n",
       "      <td>5</td>\n",
       "      <td>2</td>\n",
       "      <td>2</td>\n",
       "      <td>...</td>\n",
       "      <td>1</td>\n",
       "      <td>1</td>\n",
       "      <td>1.0</td>\n",
       "      <td>2</td>\n",
       "      <td>1</td>\n",
       "      <td>2</td>\n",
       "      <td>6</td>\n",
       "      <td>NaN</td>\n",
       "      <td>__NA__</td>\n",
       "      <td>1</td>\n",
       "    </tr>\n",
       "    <tr>\n",
       "      <th>4</th>\n",
       "      <td>5.0</td>\n",
       "      <td>1</td>\n",
       "      <td>NaN</td>\n",
       "      <td>1.0</td>\n",
       "      <td>100</td>\n",
       "      <td>2</td>\n",
       "      <td>1</td>\n",
       "      <td>3</td>\n",
       "      <td>1</td>\n",
       "      <td>2</td>\n",
       "      <td>...</td>\n",
       "      <td>1</td>\n",
       "      <td>4</td>\n",
       "      <td>5.0</td>\n",
       "      <td>4</td>\n",
       "      <td>1</td>\n",
       "      <td>2</td>\n",
       "      <td>2</td>\n",
       "      <td>3.0</td>\n",
       "      <td>__NA__</td>\n",
       "      <td>2</td>\n",
       "    </tr>\n",
       "  </tbody>\n",
       "</table>\n",
       "<p>5 rows × 168 columns</p>\n",
       "</div>"
      ],
      "text/plain": [
       "   caseid  turnout12  turnout12b  vote12  percent16  meet  givefut  info  \\\n",
       "0     1.0          1         NaN     2.0        100     1        3     4   \n",
       "1     2.0          2         NaN     NaN         50     4        5     4   \n",
       "2     3.0          1         NaN     1.0        100     1        1     1   \n",
       "3     4.0          1         NaN     2.0        100     5        4     5   \n",
       "4     5.0          1         NaN     1.0        100     2        1     3   \n",
       "\n",
       "   march  sign  ...  votereg  pid3  pid7  ideo5  newsint  pew_bornagain  \\\n",
       "0      1     2  ...        1     1   1.0      6        1              2   \n",
       "1      2     2  ...        2     3   4.0      2        3              2   \n",
       "2      1     1  ...        1     2   6.0      4        1              2   \n",
       "3      2     2  ...        1     1   1.0      2        1              2   \n",
       "4      1     2  ...        1     4   5.0      4        1              2   \n",
       "\n",
       "   pew_churatd  religpew  religpew_t  ever_vs_12mo_rand  \n",
       "0            6       NaN      __NA__                  2  \n",
       "1            4       2.0      __NA__                  1  \n",
       "2            6       1.0      __NA__                  1  \n",
       "3            6       NaN      __NA__                  1  \n",
       "4            2       3.0      __NA__                  2  \n",
       "\n",
       "[5 rows x 168 columns]"
      ]
     },
     "execution_count": 27,
     "metadata": {},
     "output_type": "execute_result"
    }
   ],
   "source": [
    "anes_csv = pd.read_csv(\"https://raw.githubusercontent.com/NovaVolunteer/Practice_Application_DS/master/Week%205/anes_example.csv\")\n",
    "anes_csv.head()"
   ]
  },
  {
   "cell_type": "code",
   "execution_count": 28,
   "metadata": {},
   "outputs": [
    {
     "data": {
      "text/plain": [
       "'[{\"caseid\":1.0,\"turnout12\":1,\"turnout12b\":null,\"vote12\":2.0,\"percent16\":100,\"meet\":1,\"givefut\":3,\"info\":4,\"march\":1,\"sign\":2,\"give12mo\":2,\"compromise\":1,\"ftobama\":100.0,\"ftblack\":100.0,\"ftwhite\":100,\"'"
      ]
     },
     "execution_count": 28,
     "metadata": {},
     "output_type": "execute_result"
    }
   ],
   "source": [
    "anes_json = anes_csv.to_json(orient=\"records\")\n",
    "anes_json[0:200] # the first 200 characters"
   ]
  },
  {
   "cell_type": "code",
   "execution_count": 29,
   "metadata": {},
   "outputs": [
    {
     "data": {
      "text/plain": [
       "'{\"caseid\":{\"0\":1.0,\"1\":2.0,\"2\":3.0,\"3\":4.0,\"4\":5.0,\"5\":6.0,\"6\":7.0,\"7\":8.0,\"8\":null,\"9\":10.0,\"10\":11.0,\"11\":12.0,\"12\":13.0,\"13\":14.0,\"14\":15.0,\"15\":16.0,\"16\":17.0,\"17\":18.0,\"18\":19.0,\"19\":20.0,\"20\":21'"
      ]
     },
     "execution_count": 29,
     "metadata": {},
     "output_type": "execute_result"
    }
   ],
   "source": [
    "anes_json = anes_csv.to_json(orient=\"columns\")\n",
    "anes_json[0:200] # the first 200 characters"
   ]
  },
  {
   "cell_type": "code",
   "execution_count": 30,
   "metadata": {},
   "outputs": [
    {
     "data": {
      "text/plain": [
       "'{\"columns\":[\"caseid\",\"turnout12\",\"turnout12b\",\"vote12\",\"percent16\",\"meet\",\"givefut\",\"info\",\"march\",\"sign\",\"give12mo\",\"compromise\",\"ftobama\",\"ftblack\",\"ftwhite\",\"fthisp\",\"ftgay\",\"ftjeb\",\"fttrump\",\"ftcarson\",\"fthrc\",\"ftrubio\",\"ftcruz\",\"ftsanders\",\"ftfiorina\",\"ftpolice\",\"ftfem\",\"fttrans\",\"ftmuslim\",\"ftsci\",\"reg\",\"demcand\",\"repcand\",\"vote16jb\",\"vote16bc\",\"vote16tc\",\"vote16mr\",\"vote16dt\",\"presjob\",\"lazyb\",\"lazyw\",\"lazyh\",\"lazym\",\"violentb\",\"violentw\",\"violenth\",\"violentm\",\"econnow\",\"econ12mo\",\"pid1d\",\"pid2d\",\"pid1r\",\"pid2r\",\"pidstr\",\"pidlean\",\"lcself\",\"lcd\",\"lcr\",\"lchc\",\"lcbo\",\"lcdt\",\"lcmr\",\"lctc\",\"srv_spend\",\"campfin\",\"immig_legal\",\"immig_numb\",\"equalpay\",\"parleave\",\"crimespend\",\"death\",\"terror_worry\",\"terror_12mo\",\"terror_local\",\"relig_bc\",\"relig_bcstr\",\"relig_srv\",\"relig_srvstr\",\"incgap20\",\"isis_troops\",\"syrians_a\",\"syrians_b\",\"pc_a\",\"pc_b\",\"minwage\",\"healthspend\",\"childcare\",\"getahead\",\"ladder\",\"finwell\",\"warm\",\"warmbad\",\"warmcause\",\"warmdo\",\"freetrade\",\"stopwhite\",\"stopblack\",\"forcewhite\",\"forceblack\",\"stop_12mo\",\"arrested_12mo\",\"charged_12mo\",\"jailed_12mo\",\"convict_12mo\",\"famstop_12mo\",\"stop_ever\",\"arrested_ever\",\"charged_ever\",\"jailed_ever\",\"convict_ever\",\"famstop_ever\",\"pk_deficit\",\"pk_sen\",\"pk_spend\",\"birthright_a\",\"birthright_b\",\"femoff_jobs\",\"femoff_ed\",\"femoff_spend\",\"femoff_issues\",\"lpres_pleased\",\"lpres_immig\",\"lpres_la\",\"vaccine\",\"autism\",\"bo_muslim\",\"bo_confid\",\"amer_ident\",\"race_ident\",\"whitework\",\"whitejob\",\"wguilt1\",\"wguilt2\",\"wguilt3\",\"buycott\",\"boycott\",\"skintone_mob\",\"skintone\",\"skin_discrim\",\"africanam10_1\",\"white10_1\",\"hispanic10_1\",\"asianam10_1\",\"nativeam10_1\",\"other10_1\",\"other10_open\",\"birthyr\",\"gender\",\"race\",\"race_other\",\"educ\",\"marstat\",\"speakspanish\",\"employ\",\"employ_t\",\"faminc\",\"faminc2\",\"state\",\"votereg\",\"pid3\",\"pid7\",\"ideo5\",\"newsint\",\"pew_bornagain\",\"pew_churatd\",\"religpew\",\"religpew_t\",\"ever_vs_12mo_rand\"],\"index\":[0,1,2,3,4,5,6,7,8,9,10,11,12,13,14,15,16,17,18,19,20,21,22,23,24,25,26,27,28,29,30,31,32,33,34,35,36,37,38,39,40,41,42,43,44,45,46,47,48,49,50,51,52,53,54,55,56,57,58,59,60,61,62,63,64,65,66,67,68,69,70,71,72,73,74,75,76,77,78,79,80,81,82,83,84,85,86,87,88,89,90,91,92,93,94,95,96,97,98,99,100,101,102,103,104,105,106,107,108,109,110,111,112,113,114,115,116,117,118,119,120,121,122,123,124,125,126,127,128,129,130,131,132,133,134,135,136,137,138,139,140,141,142,143,144,145,146,147,148,149,150,151,152,153,154,155,156,157,158,159,160,161,162,163,164,165,166,167,168,169,170,171,172,173,174,175,176,177,178,179,180,181,182,183,184,185,186,187,188,189,190,191,192,193,194,195,196,197,198,199,200,201,202,203,204,205,206,207,208,209,210,211,212,213,214,215,216,217,218,219,220,221,222,223,224,225,226,227,228,229,230,231,232,233,234,235,236,237,238,239,240,241,242,243,244,245,246,247,248,249,250,251,252,253,254,255,256,257,258,259,260,261,262,263,264,265,266,267,268,269,270,271,272,273,274,275,276,277,278,279,280,281,282,283,284,285,286,287,288,289,290,291,292,293,294,295,296,297,298,299,300,301,302,303,304,305,306,307,308,309,310,311,312,313,314,315,316,317,318,319,320,321,322,323,324,325,326,327,328,329,330,331,332,333,334,335,336,337,338,339,340,341,342,343,344,345,346,347,348,349,350,351,352,353,354,355,356,357,358,359,360,361,362,363,364,365,366,367,368,369,370,371,372,373,374,375,376,377,378,379,380,381,382,383,384,385,386,387,388,389,390,391,392,393,394,395,396,397,398,399,400,401,402,403,404,405,406,407,408,409,410,411,412,413,414,415,416,417,418,419,420,421,422,423,424,425,426,427,428,429,430,431,432,433,434,435,436,437,438,439,440,441,442,443,444,445,446,447,448,449,450,451,452,453,454,455,456,457,458,459,460,461,462,463,464,465,466,467,468,469,470,471,472,473,474,475,476,477,478,479,480,481,482,483,484,485,486,487,488,489,490,491,492,493,494,495,496,497,498,499,500,501,502,503,504,505,506,507,508,509,510,511,512,513,514,515,516,517,518,519,520,521,522,523,524,525,526,527,528,529,530,531,532,533,534,535,536,537,538,539,540,541,542,543,544,545,546,547,548,549,550,551,552,553,554,555,556,557,558,559,560,561,562,563,564,565,566,567,568,569,570,571,572,573,574,575,576,577,578,579,580,581,582,583,584,585,586,587,588,589,590,591,592,593,594,595,596,597,598,599,600,601,602,603,604,605,606,607,608,609,610,611,612,613,614,615,616,617,618,619,620,621,622,623,624,625,626,627,628,629,630,631,632,633,634,635,636,637,638,639,640,641,642,643,644,645,646,647,648,649,650,651,652,653,654,655,656,657,658,659,660,661,662,663,664,665,666,667,668,669,670,671,672,673,674,675,676,677,678,679,680,681,682,683,684,685,686,687,688,689,690,691,692,693,694,695,696,697,698,699,700,701,702,703,704,705,706,707,708,709,710,711,712,713,714,715,716,717,718,719,720,721,722,723,724,725,726,727,728,729,730,731,732,733,734,735,736,737,738,739,740,741,742,743,744,745,746,747,748,749,750,751,752,753,754,755,756,757,758,759,760,761,762,763,764,765,766,767,768,769,770,771,772,773,774,775,776,777,778,779,780,781,782,783,784,785,786,787,788,789,790,791,792,793,794,795,796,797,798,799,800,801,802,803,804,805,806,807,'"
      ]
     },
     "execution_count": 30,
     "metadata": {},
     "output_type": "execute_result"
    }
   ],
   "source": [
    "anes_json = anes_csv.to_json(orient=\"split\")\n",
    "anes_json[0:5000] # the first 5000 characters"
   ]
  },
  {
   "cell_type": "code",
   "execution_count": 31,
   "metadata": {},
   "outputs": [
    {
     "data": {
      "text/plain": [
       "'{\"0\":{\"caseid\":1.0,\"turnout12\":1,\"turnout12b\":null,\"vote12\":2.0,\"percent16\":100,\"meet\":1,\"givefut\":3,\"info\":4,\"march\":1,\"sign\":2,\"give12mo\":2,\"compromise\":1,\"ftobama\":100.0,\"ftblack\":100.0,\"ftwhite\":1'"
      ]
     },
     "execution_count": 31,
     "metadata": {},
     "output_type": "execute_result"
    }
   ],
   "source": [
    "anes_json = anes_csv.to_json(orient=\"index\")\n",
    "anes_json[0:200] # the first 200 characters"
   ]
  },
  {
   "cell_type": "code",
   "execution_count": 32,
   "metadata": {},
   "outputs": [
    {
     "data": {
      "text/plain": [
       "'[[1.0,1,null,2.0,100,1,3,4,1,2,2,1,100.0,100.0,100,100.0,96.0,36.0,1.0,5.0,76.0,31.0,0.0,84.0,2.0,51.0,62.0,97.0,20.0,100.0,1,1,6.0,null,null,null,1.0,1.0,1,5,5,5,5,5,5,5,5,2,2,null,\"__NA__\",1.0,\"__NA'"
      ]
     },
     "execution_count": 32,
     "metadata": {},
     "output_type": "execute_result"
    }
   ],
   "source": [
    "anes_json = anes_csv.to_json(orient=\"values\")\n",
    "anes_json[0:200] # the first 200 characters"
   ]
  },
  {
   "cell_type": "markdown",
   "metadata": {},
   "source": [
    "To save these files to disk, specify a filename, or a filename and path, for the first parameter:"
   ]
  },
  {
   "cell_type": "code",
   "execution_count": 33,
   "metadata": {},
   "outputs": [],
   "source": [
    "anes_json = anes_csv.to_json(\"anes_records.json\", orient=\"records\")"
   ]
  },
  {
   "cell_type": "markdown",
   "metadata": {},
   "source": [
    "Finally, add compression automatically by adding .gzip, .bz2, .zip, or .xz to the end of the file name:"
   ]
  },
  {
   "cell_type": "code",
   "execution_count": 34,
   "metadata": {},
   "outputs": [],
   "source": [
    "anes_json = anes_csv.to_json(\"anes_records.zip\", orient=\"records\")"
   ]
  }
 ],
 "metadata": {
  "kernelspec": {
   "display_name": "Python 3",
   "language": "python",
   "name": "python3"
  },
  "language_info": {
   "codemirror_mode": {
    "name": "ipython",
    "version": 3
   },
   "file_extension": ".py",
   "mimetype": "text/x-python",
   "name": "python",
   "nbconvert_exporter": "python",
   "pygments_lexer": "ipython3",
   "version": "3.7.3"
  }
 },
 "nbformat": 4,
 "nbformat_minor": 4
}
